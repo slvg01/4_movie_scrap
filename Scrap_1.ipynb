{
 "cells": [
  {
   "cell_type": "code",
   "execution_count": 1,
   "metadata": {},
   "outputs": [
    {
     "name": "stdout",
     "output_type": "stream",
     "text": [
      "http://www.allocine.fr/ 200\n",
      "['/film/fichefilm_gen_cfilm=310434.html', '/film/fichefilm_gen_cfilm=318855.html', '/film/fichefilm_gen_cfilm=269289.html', '/film/fichefilm_gen_cfilm=305544.html', '/film/fichefilm_gen_cfilm=283700.html', '/film/fichefilm_gen_cfilm=187945.html', '/film/fichefilm_gen_cfilm=293604.html', '/film/fichefilm_gen_cfilm=254374.html', '/film/fichefilm_gen_cfilm=284771.html', '/film/fichefilm_gen_cfilm=319744.html', '/film/fichefilm_gen_cfilm=307371.html', '/film/fichefilm_gen_cfilm=251105.html', '/film/fichefilm_gen_cfilm=299455.html', '/film/fichefilm_gen_cfilm=308055.html', '/series/ficheserie_gen_cserie=30876.html', '/series/ficheserie_gen_cserie=31999.html', '/series/ficheserie_gen_cserie=35489.html', '/series/ficheserie_gen_cserie=11058.html', '/series/ficheserie_gen_cserie=30109.html', '/series/ficheserie_gen_cserie=31632.html', '/series/ficheserie_gen_cserie=23475.html', '/series/ficheserie_gen_cserie=27403.html']\n",
      "['http://www.allocine.fr/film/fichefilm_gen_cfilm=310434.html', 'http://www.allocine.fr/film/fichefilm_gen_cfilm=318855.html', 'http://www.allocine.fr/film/fichefilm_gen_cfilm=269289.html', 'http://www.allocine.fr/film/fichefilm_gen_cfilm=305544.html', 'http://www.allocine.fr/film/fichefilm_gen_cfilm=283700.html', 'http://www.allocine.fr/film/fichefilm_gen_cfilm=187945.html', 'http://www.allocine.fr/film/fichefilm_gen_cfilm=293604.html', 'http://www.allocine.fr/film/fichefilm_gen_cfilm=254374.html', 'http://www.allocine.fr/film/fichefilm_gen_cfilm=284771.html', 'http://www.allocine.fr/film/fichefilm_gen_cfilm=319744.html', 'http://www.allocine.fr/film/fichefilm_gen_cfilm=307371.html', 'http://www.allocine.fr/film/fichefilm_gen_cfilm=251105.html', 'http://www.allocine.fr/film/fichefilm_gen_cfilm=299455.html', 'http://www.allocine.fr/film/fichefilm_gen_cfilm=308055.html']\n",
      "14 ['Un coup de dés', 'Nicky Larson - City Hunter: Angel Dust', 'La Couleur Pourpre', 'Iron Claw', 'Captives', 'Tout sauf toi', 'May December', 'Vivre avec les loups', 'Le Club des miracles', 'Cyrano de Bergerac (Comédie-Française)', 'Bonnard, Pierre et Marthe', 'Wonka', 'Un silence', 'Chasse gardée']\n",
      "14 ['\\nMathieu doit tout à son ami Vincent : sa maison, son travail, et même de lui avoir sauvé la vie il y a dix ans. Ils forment, avec leurs compagnes, un quatuor inséparable, et vivent une vie sans nuage sur la côte d’Azur. Mais la loyauté de Mathieu est mise à l’épreuve lorsqu’il découvre que Vincent trompe sa femme. Quand la maîtresse de Vincent est retrouvée morte, la suspicion s’installe au cœur des deux couples, accompagnée de son cortège de lâchetés, de mensonges, et de culpabilité...\\n', \"\\nNicky Larson est City Hunter, un détective privé opérant à Tokyo avec son énergique partenaire Laura. Un jour, une inconnue prénommée Angie fait appel à eux pour une demande étrangement simple : retrouver son chat ! Ils acceptent la mission, Laura pour la généreuse récompense et Nicky pour les charmes d’Angie. En parallèle, Hélène, lieutenante de la police de Tokyo, enquête sur l'Angel Dust, une technologie mystérieuse qui transforme les soldats en surhommes mais attention, le trio des Cat's Eye est aussi sur le coup ! Quel est le lien entre ces deux affaires ? Nicky Larson va se retrouver au cœur d’une bataille épique, qui l'amènera sur les traces de son propre passé.\\n\", '\\nSéparée de sa sœur Nettie et de ses enfants, Celie mène une vie difficile, subissant même les coups d’un mari violent, simplement désigné « Monsieur ». C’est grâce au soutien de la chanteuse Shug Avery, à la sensualité débordante, et à sa belle-fille Sofia, d’une volonté inébranlable, que Celie puise une force extraordinaire. Une solidarité féminine hors du commun dont les liens qu’elle tisse avec ses « sœurs » sont désormais indestructibles.\\n', '\\nLes inséparables frères Von Erich ont marqué l’histoire du catch professionnel du début des années 80. Entrainés de main de fer par un père tyrannique, ils vont devoir se battre sur le ring et dans leur vie. Entre triomphes et tragédies, cette nouvelle pépite produite par A24 est inspirée de leur propre histoire.\\n', '\\nParis, 1894. Qui est Fanni qui prétend s’être laissée enfermer volontairement à l’Hôpital de la Salpêtrière ? Cherchant sa mère parmi la multitude des femmes convaincues de « folie », Fanni découvre une réalité de l’asile toute autre que ce qu’elle imaginait, ainsi que l’amitié inattendue de compagnes d’infortune. Le dernier grand bal de la Salpêtrière se prépare. Politiques, artistes, mondains s’y presseront. Dernier espoir d’échapper au piège qui se referme…\\n', \"\\nBea et Ben ont tout du couple parfait, mais après un premier rendez-vous idéal, un incident refroidit leur attirance réciproque jusqu'à leurs retrouvailles inattendues lors d'un mariage en Australie. Ils font alors ce que n'importe quel adulte mature ferait dans cette situation : prétendre être en couple.\\n\", '\\nPour préparer son nouveau rôle, une actrice célèbre vient rencontrer celle qu’elle va incarner à l’écran, dont la vie sentimentale a enflammé la presse à scandale et passionné le pays 20 ans plus tôt.\\n', '\\nLe réalisateur nous parle du loup d’une manière totalement nouvelle et inattendue. Il y aura bientôt des loups un peu partout en France. Il faut donc apprendre à « vivre avec les loups ». Dépassant les postures polémiques, l’auteur nous amène de manière sensible et cinématographique à percevoir différemment la nature qui nous entoure et les animaux qui l’habitent : chevreuils, chamois, bouquetins… Un voyage de Jean-Michel Bertrand avec de surprenantes rencontres, humaines et animales, avec son style inimitable, le réalisateur nous entraîne dans des réflexions naturalistes et philosophiques sur la nature.\\n', \"\\nLes femmes de la petite ville de Ballyfermot, en Irlande, espèrent toutes être les heureuses élues qui pourront effectuer un pèlerinage dans la ville sacrée de Lourdes, en France. Au cours d'une soirée de tombola pour le moins mouvementée, Lily, Eileen, Dolly et Chrissie remportent le prix tant convoité. Au fil de ce voyage d'une vie, le quatuor découvre le véritable sens de l'amitié et du pardon, en plus de vivre tour à tour un « miracle » personnel.\\n\", '\\nAvec les comédiens de la troupe de la Comédie-Française et les comédiens de l’Académie de la Comédie-Française.Cyrano de Bergerac manie aussi bien les mots qu’il manie l’épée. Il aime secrètement sa cousine Roxane mais se trouve trop laid pour se déclarer. Quand Christian, fraîchement entré à la compagnie des Cadets, lui demande de l’aide pour la séduire, Cyrano use de sa plus belle prose pour conquérir le cœur de la belle…Ce nouveau Cyrano à la Comédie-Française se déploie dans un décor unique évoluant à chacun des cinq actes. Du baroque au féerique, le dispositif de cette nouvelle mise en scène sublime la comédie héroïque de Rostand, dont le héros incarne, depuis près de 130 ans, le panache dans toute sa splendeur.\\n', '\\nPierre Bonnard ne serait pas le peintre que tout le monde connaît sans l’énigmatique Marthe qui occupe à elle seule presque un tiers de son œuvre…\\n', '\\nDécouvrez la jeunesse de Willy Wonka, l’extraordinaire inventeur, magicien et chocolatier de l’univers féérique de Charlie et la chocolaterie de Roald Dahl, dans le film WONKA. Timothée Chalamet incarne ce jeune homme débordant d’idées et déterminé à changer le monde… avec gourmandise ! Cette œuvre haute en couleur, mêlant émotion et humour, prouve que, dans la vie, les rêves peuvent devenir réalité – surtout si on a la chance de rencontrer Willy Wonka.\\n', '\\nSilencieuse depuis 25 ans, Astrid la femme d’un célèbre avocat voit son équilibre familial s’effondrer lorsque ses enfants se mettent en quête de justice.\\n', '\\nDans un village sans histoire, une maison de rêve en pleine nature est à vendre. Pour Simon et Adelaïde, à l’étroit dans leur appartement parisien avec leurs deux enfants, c’est l’occasion idéale de faire le grand saut et de quitter l’enfer de la ville. Mais le rêve se transforme rapidement en cauchemar quand ils réalisent que leurs si sympathiques voisins utilisent leur jardin… comme terrain de chasse ! Entre voisins, la guerre est déclarée et tous les coups (bas) sont permis !\\n']\n",
      "14 ['http://www.allocine.fr/film/fichefilm_gen_cfilm=310434.html', 'http://www.allocine.fr/film/fichefilm_gen_cfilm=318855.html', 'http://www.allocine.fr/film/fichefilm_gen_cfilm=269289.html', 'http://www.allocine.fr/film/fichefilm_gen_cfilm=305544.html', 'http://www.allocine.fr/film/fichefilm_gen_cfilm=283700.html', 'http://www.allocine.fr/film/fichefilm_gen_cfilm=187945.html', 'http://www.allocine.fr/film/fichefilm_gen_cfilm=293604.html', 'http://www.allocine.fr/film/fichefilm_gen_cfilm=254374.html', 'http://www.allocine.fr/film/fichefilm_gen_cfilm=284771.html', 'http://www.allocine.fr/film/fichefilm_gen_cfilm=319744.html', 'http://www.allocine.fr/film/fichefilm_gen_cfilm=307371.html', 'http://www.allocine.fr/film/fichefilm_gen_cfilm=251105.html', 'http://www.allocine.fr/film/fichefilm_gen_cfilm=299455.html', 'http://www.allocine.fr/film/fichefilm_gen_cfilm=308055.html']\n"
     ]
    }
   ],
   "source": [
    "from bs4 import BeautifulSoup\n",
    "import requests\n",
    "import time\n",
    "import random\n",
    "from random import randint\n",
    "\n",
    "#scrap the page\n",
    "url = \"http://www.allocine.fr/\"\n",
    "r = requests.get(url)\n",
    "print(url, r.status_code)                  # status code request the status of the request and return a code : 200 means all ok \n",
    "soup = BeautifulSoup(r.content, \"html\")\n",
    "soup\n",
    "\n",
    "# get the new week movies data \n",
    "for elem in soup.find_all(\"a\", attrs={\"class\": \"meta-title meta-title-link\"}):\n",
    "    pass\n",
    "\n",
    "#extratct the new week movies/series href data \n",
    "links = []\n",
    "for elem in soup.find_all(\"a\", attrs={\"class\": \"meta-title meta-title-link\"}):\n",
    "    links.append(elem.get(\"href\"))   # retrieving the hrefs \n",
    "print (links)\n",
    "\n",
    "\n",
    "#concatenate the url with href data to get a list of the new week movies page  only\n",
    "film_links = []\n",
    "film_links = [\"http://www.allocine.fr\" + elem for elem in links if \"film\" in elem]\n",
    "print(film_links)\n",
    "\n",
    "#-------------------------------------\n",
    "# loop through the movies page list  to extract title, synopsis\n",
    "title = []\n",
    "synopsis = []\n",
    "for film in film_links :\n",
    "    url = film\n",
    "    r = requests.get(url)\n",
    "    soup_film = BeautifulSoup(r.content, \"html\")\n",
    "    time.sleep(random.uniform(1.0, 2.0))   ## allocwing to space the request to the server and not be kick ed out while looping\n",
    "    \n",
    "\n",
    "#get the title list\n",
    "    for elem in soup_film.find_all(\"div\", attrs={\"class\": \"titlebar-title titlebar-title-xl\"}):\n",
    "        title.append(elem.text)\n",
    "        \n",
    "        # Get the synopsis section list \n",
    "    for elem in soup_film.find_all(\"section\", attrs={\"id\": \"synopsis-details\"}):\n",
    "        for elem2 in elem.find_all(\"div\", attrs={\"class\":\"content-txt\"}):\n",
    "            synopsis.append(elem2.text)\n",
    "             \n",
    "\n",
    "       \n",
    "\n",
    "print (len(title), title)       \n",
    "print(len(synopsis), synopsis)\n",
    "print(len(film_links), film_links)"
   ]
  }
 ],
 "metadata": {
  "kernelspec": {
   "display_name": "base",
   "language": "python",
   "name": "python3"
  },
  "language_info": {
   "codemirror_mode": {
    "name": "ipython",
    "version": 3
   },
   "file_extension": ".py",
   "mimetype": "text/x-python",
   "name": "python",
   "nbconvert_exporter": "python",
   "pygments_lexer": "ipython3",
   "version": "3.11.5"
  }
 },
 "nbformat": 4,
 "nbformat_minor": 2
}
